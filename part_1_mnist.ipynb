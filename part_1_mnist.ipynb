{
 "cells": [
  {
   "cell_type": "markdown",
   "metadata": {},
   "source": [
    "# Part 1 - MNIST"
   ]
  },
  {
   "cell_type": "markdown",
   "metadata": {
    "toc-hr-collapsed": false
   },
   "source": [
    "## Explore data"
   ]
  },
  {
   "cell_type": "code",
   "execution_count": 1,
   "metadata": {},
   "outputs": [],
   "source": [
    "%matplotlib inline\n",
    "\n",
    "import numpy as np\n",
    "import matplotlib.pyplot as plt"
   ]
  },
  {
   "cell_type": "code",
   "execution_count": 2,
   "metadata": {},
   "outputs": [],
   "source": [
    "mnist = np.load('data/mnist.npz')"
   ]
  },
  {
   "cell_type": "code",
   "execution_count": 3,
   "metadata": {},
   "outputs": [
    {
     "name": "stdout",
     "output_type": "stream",
     "text": [
      "(70000, 784) (70000,)\n"
     ]
    }
   ],
   "source": [
    "X = mnist['data'].astype('float32')\n",
    "y = mnist['target'].astype('int64')\n",
    "\n",
    "print(X.shape, y.shape)"
   ]
  },
  {
   "cell_type": "code",
   "execution_count": 4,
   "metadata": {},
   "outputs": [
    {
     "data": {
      "image/png": "[encoded data removed]",
      "text/plain": [
       "<Figure size 720x288 with 10 Axes>"
      ]
     },
     "metadata": {},
     "output_type": "display_data"
    }
   ],
   "source": [
    "fig, axes = plt.subplots(2, 5, figsize=(10, 4))\n",
    "fig.patch.set_alpha(0)\n",
    "for idx, ax in enumerate(axes.flatten()):\n",
    "    ax.imshow(X[idx].reshape(28, 28), cmap='gray')\n",
    "    ax.set_title(y[idx], fontsize=20)\n",
    "    ax.set_xticks([])\n",
    "    ax.set_yticks([])\n",
    "fig.tight_layout()\n",
    "fig.savefig('images/mnist_example.png')"
   ]
  },
  {
   "cell_type": "markdown",
   "metadata": {},
   "source": [
    "## Simple Neutral Model"
   ]
  },
  {
   "cell_type": "code",
   "execution_count": 5,
   "metadata": {},
   "outputs": [],
   "source": [
    "import torch.nn as nn\n",
    "\n",
    "class SimpleFeedforward(nn.Module):\n",
    "    def __init__(self, dropout=0.5):\n",
    "        super().__init__()\n",
    "        self.module = nn.Sequential(\n",
    "            nn.Linear(784, 98),\n",
    "            nn.ReLU(inplace=True),\n",
    "            nn.Dropout(dropout),\n",
    "            nn.Linear(98, 10)\n",
    "        )\n",
    "    def forward(self, X):\n",
    "        return self.module(X)"
   ]
  },
  {
   "cell_type": "code",
   "execution_count": 6,
   "metadata": {},
   "outputs": [],
   "source": [
    "from sklearn.model_selection import train_test_split\n",
    "\n",
    "X_scaled = X / X.max()\n",
    "\n",
    "X_train, X_test, y_train, y_test = train_test_split(\n",
    "    X_scaled, y, test_size=0.25, random_state=42)"
   ]
  },
  {
   "cell_type": "code",
   "execution_count": 7,
   "metadata": {},
   "outputs": [],
   "source": [
    "from skorch import NeuralNet\n",
    "\n",
    "net = NeuralNet(\n",
    "    SimpleFeedforward,\n",
    "    criterion=nn.CrossEntropyLoss,\n",
    "    max_epochs=10,\n",
    "    lr=0.3,\n",
    "    device='cuda', # comment out to run on cpu\n",
    ")"
   ]
  },
  {
   "cell_type": "code",
   "execution_count": 8,
   "metadata": {},
   "outputs": [
    {
     "name": "stdout",
     "output_type": "stream",
     "text": [
      "  epoch    train_loss    valid_loss     dur\n",
      "-------  ------------  ------------  ------\n",
      "      1        \u001b[36m0.5848\u001b[0m        \u001b[32m0.3388\u001b[0m  0.4810\n",
      "      2        \u001b[36m0.3240\u001b[0m        \u001b[32m0.2524\u001b[0m  0.4822\n",
      "      3        \u001b[36m0.2695\u001b[0m        \u001b[32m0.1964\u001b[0m  0.4789\n",
      "      4        \u001b[36m0.2396\u001b[0m        \u001b[32m0.1776\u001b[0m  0.4707\n",
      "      5        \u001b[36m0.2205\u001b[0m        \u001b[32m0.1497\u001b[0m  0.4708\n",
      "      6        \u001b[36m0.2057\u001b[0m        \u001b[32m0.1380\u001b[0m  0.4715\n",
      "      7        \u001b[36m0.1904\u001b[0m        \u001b[32m0.1279\u001b[0m  0.4715\n",
      "      8        \u001b[36m0.1838\u001b[0m        0.1298  0.4729\n",
      "      9        \u001b[36m0.1784\u001b[0m        \u001b[32m0.1227\u001b[0m  0.4781\n",
      "     10        \u001b[36m0.1662\u001b[0m        0.1343  0.4856\n"
     ]
    }
   ],
   "source": [
    "_ = net.fit(X_train, y_train)"
   ]
  },
  {
   "cell_type": "code",
   "execution_count": 9,
   "metadata": {},
   "outputs": [
    {
     "name": "stdout",
     "output_type": "stream",
     "text": [
      "     11        \u001b[36m0.1630\u001b[0m        \u001b[32m0.1172\u001b[0m  0.4873\n",
      "     12        \u001b[36m0.1547\u001b[0m        0.1295  0.4839\n",
      "     13        \u001b[36m0.1532\u001b[0m        \u001b[32m0.1119\u001b[0m  0.4788\n",
      "     14        \u001b[36m0.1474\u001b[0m        \u001b[32m0.1074\u001b[0m  0.4761\n",
      "     15        \u001b[36m0.1471\u001b[0m        \u001b[32m0.1071\u001b[0m  0.4745\n"
     ]
    }
   ],
   "source": [
    "net.set_params(max_epochs=5)\n",
    "_ = net.partial_fit(X_train, y_train)"
   ]
  },
  {
   "cell_type": "markdown",
   "metadata": {},
   "source": [
    "## History"
   ]
  },
  {
   "cell_type": "code",
   "execution_count": 10,
   "metadata": {},
   "outputs": [
    {
     "data": {
      "text/plain": [
       "15"
      ]
     },
     "execution_count": 10,
     "metadata": {},
     "output_type": "execute_result"
    }
   ],
   "source": [
    "len(net.history)"
   ]
  },
  {
   "cell_type": "code",
   "execution_count": 11,
   "metadata": {},
   "outputs": [
    {
     "data": {
      "text/plain": [
       "0.10714734790438697"
      ]
     },
     "execution_count": 11,
     "metadata": {},
     "output_type": "execute_result"
    }
   ],
   "source": [
    "net.history[-1, 'valid_loss']"
   ]
  },
  {
   "cell_type": "code",
   "execution_count": 12,
   "metadata": {},
   "outputs": [
    {
     "data": {
      "text/plain": [
       "[0.14743910779271807, 0.14714258934202648]"
      ]
     },
     "execution_count": 12,
     "metadata": {},
     "output_type": "execute_result"
    }
   ],
   "source": [
    "net.history[-2:, 'train_loss']"
   ]
  },
  {
   "cell_type": "markdown",
   "metadata": {},
   "source": [
    "## Callbacks"
   ]
  },
  {
   "cell_type": "markdown",
   "metadata": {},
   "source": [
    "### EpochScoring"
   ]
  },
  {
   "cell_type": "code",
   "execution_count": 13,
   "metadata": {},
   "outputs": [],
   "source": [
    "from sklearn.metrics import make_scorer\n",
    "from skorch.callbacks import EpochScoring\n",
    "\n",
    "def accuracy_argmax(y_true, y_pred):\n",
    "    return np.mean(y_true == np.argmax(y_pred, -1))\n",
    "accuracy_argmax_scorer = make_scorer(accuracy_argmax)\n",
    "\n",
    "epoch_acc = EpochScoring(\n",
    "    accuracy_argmax_scorer,\n",
    "    name='valid_acc',\n",
    "    lower_is_better=False)"
   ]
  },
  {
   "cell_type": "code",
   "execution_count": 14,
   "metadata": {},
   "outputs": [],
   "source": [
    "net = NeuralNet(\n",
    "    SimpleFeedforward,\n",
    "    criterion=nn.CrossEntropyLoss,\n",
    "    max_epochs=10,\n",
    "    lr=0.3,\n",
    "    device='cuda',\n",
    "    callbacks=[epoch_acc]\n",
    ")"
   ]
  },
  {
   "cell_type": "code",
   "execution_count": 15,
   "metadata": {},
   "outputs": [
    {
     "name": "stdout",
     "output_type": "stream",
     "text": [
      "  epoch    train_loss    valid_acc    valid_loss     dur\n",
      "-------  ------------  -----------  ------------  ------\n",
      "      1        \u001b[36m0.5757\u001b[0m       \u001b[32m0.8978\u001b[0m        \u001b[35m0.3351\u001b[0m  0.4749\n",
      "      2        \u001b[36m0.3227\u001b[0m       \u001b[32m0.9250\u001b[0m        \u001b[35m0.2394\u001b[0m  0.4698\n",
      "      3        \u001b[36m0.2710\u001b[0m       \u001b[32m0.9431\u001b[0m        \u001b[35m0.1848\u001b[0m  0.4697\n",
      "      4        \u001b[36m0.2408\u001b[0m       \u001b[32m0.9446\u001b[0m        \u001b[35m0.1749\u001b[0m  0.4701\n",
      "      5        \u001b[36m0.2201\u001b[0m       \u001b[32m0.9554\u001b[0m        \u001b[35m0.1432\u001b[0m  0.4694\n",
      "      6        \u001b[36m0.2081\u001b[0m       \u001b[32m0.9588\u001b[0m        \u001b[35m0.1374\u001b[0m  0.4787\n",
      "      7        \u001b[36m0.1909\u001b[0m       0.9570        \u001b[35m0.1353\u001b[0m  0.4831\n",
      "      8        \u001b[36m0.1845\u001b[0m       \u001b[32m0.9591\u001b[0m        \u001b[35m0.1349\u001b[0m  0.4829\n",
      "      9        \u001b[36m0.1798\u001b[0m       0.9583        0.1350  0.4847\n",
      "     10        \u001b[36m0.1719\u001b[0m       \u001b[32m0.9663\u001b[0m        \u001b[35m0.1130\u001b[0m  0.4838\n"
     ]
    }
   ],
   "source": [
    "_ = net.fit(X_train, y_train)"
   ]
  },
  {
   "cell_type": "code",
   "execution_count": 16,
   "metadata": {},
   "outputs": [
    {
     "name": "stdout",
     "output_type": "stream",
     "text": [
      "(17500, 10)\n",
      "test accuracy: 0.9637142857142857\n"
     ]
    }
   ],
   "source": [
    "y_pred = net.predict(X_test)\n",
    "print(y_pred.shape)\n",
    "print('test accuracy:', accuracy_argmax(y_test, y_pred))"
   ]
  },
  {
   "cell_type": "markdown",
   "metadata": {},
   "source": [
    "## Integration with sklearn"
   ]
  },
  {
   "cell_type": "code",
   "execution_count": 12,
   "metadata": {},
   "outputs": [],
   "source": [
    "from sklearn.pipeline import Pipeline\n",
    "from sklearn.preprocessing import MinMaxScaler"
   ]
  },
  {
   "cell_type": "code",
   "execution_count": 13,
   "metadata": {},
   "outputs": [],
   "source": [
    "pipe = Pipeline([\n",
    "    ('min_max', MinMaxScaler()),\n",
    "    ('net', net)\n",
    "])"
   ]
  },
  {
   "cell_type": "code",
   "execution_count": 14,
   "metadata": {},
   "outputs": [
    {
     "name": "stdout",
     "output_type": "stream",
     "text": [
      "  epoch    train_loss    valid_acc    valid_loss     dur\n",
      "-------  ------------  -----------  ------------  ------\n",
      "      1        \u001b[36m0.5839\u001b[0m       \u001b[32m0.8897\u001b[0m        \u001b[35m0.3528\u001b[0m  0.5927\n",
      "      2        \u001b[36m0.3270\u001b[0m       \u001b[32m0.9260\u001b[0m        \u001b[35m0.2447\u001b[0m  0.4988\n",
      "      3        \u001b[36m0.2706\u001b[0m       \u001b[32m0.9443\u001b[0m        \u001b[35m0.1809\u001b[0m  0.4852\n",
      "      4        \u001b[36m0.2416\u001b[0m       \u001b[32m0.9457\u001b[0m        \u001b[35m0.1711\u001b[0m  0.4832\n",
      "      5        \u001b[36m0.2239\u001b[0m       \u001b[32m0.9485\u001b[0m        \u001b[35m0.1704\u001b[0m  0.4846\n",
      "      6        \u001b[36m0.2112\u001b[0m       0.9477        \u001b[35m0.1692\u001b[0m  0.4858\n",
      "      7        \u001b[36m0.2000\u001b[0m       \u001b[32m0.9609\u001b[0m        \u001b[35m0.1320\u001b[0m  0.4863\n",
      "      8        \u001b[36m0.1840\u001b[0m       0.9570        0.1430  0.4839\n",
      "      9        \u001b[36m0.1804\u001b[0m       \u001b[32m0.9643\u001b[0m        \u001b[35m0.1194\u001b[0m  0.4849\n",
      "     10        \u001b[36m0.1721\u001b[0m       0.9641        0.1207  0.4823\n"
     ]
    }
   ],
   "source": [
    "X_train, X_test, y_train, y_test = train_test_split(\n",
    "    X, y, test_size=0.25, random_state=42)\n",
    "_ = pipe.fit(X_train, y_train)"
   ]
  },
  {
   "cell_type": "code",
   "execution_count": 16,
   "metadata": {},
   "outputs": [],
   "source": [
    "from sklearn.model_selection import GridSearchCV\n",
    "\n",
    "pipe.set_params(net__verbose=0)\n",
    "param_grid = {\n",
    "    'net__module__dropout': [0.2, 0.5, 0.8]\n",
    "}\n",
    "\n",
    "gs = GridSearchCV(pipe, param_grid, \n",
    "                  scoring=accuracy_argmax_scorer, \n",
    "                  cv=3, verbose=3)"
   ]
  },
  {
   "cell_type": "code",
   "execution_count": 17,
   "metadata": {},
   "outputs": [
    {
     "name": "stdout",
     "output_type": "stream",
     "text": [
      "Fitting 3 folds for each of 3 candidates, totalling 9 fits\n",
      "[CV] net__module__dropout=0.2 ........................................\n"
     ]
    },
    {
     "name": "stderr",
     "output_type": "stream",
     "text": [
      "[Parallel(n_jobs=1)]: Using backend SequentialBackend with 1 concurrent workers.\n"
     ]
    },
    {
     "name": "stdout",
     "output_type": "stream",
     "text": [
      "[CV]  net__module__dropout=0.2, score=0.9665723836461816, total=   5.5s\n",
      "[CV] net__module__dropout=0.2 ........................................\n"
     ]
    },
    {
     "name": "stderr",
     "output_type": "stream",
     "text": [
      "[Parallel(n_jobs=1)]: Done   1 out of   1 | elapsed:    5.9s remaining:    0.0s\n"
     ]
    },
    {
     "name": "stdout",
     "output_type": "stream",
     "text": [
      "[CV]  net__module__dropout=0.2, score=0.9635709081558308, total=   5.3s\n",
      "[CV] net__module__dropout=0.2 ........................................\n"
     ]
    },
    {
     "name": "stderr",
     "output_type": "stream",
     "text": [
      "[Parallel(n_jobs=1)]: Done   2 out of   2 | elapsed:   11.7s remaining:    0.0s\n"
     ]
    },
    {
     "name": "stdout",
     "output_type": "stream",
     "text": [
      "[CV]  net__module__dropout=0.2, score=0.970385291218446, total=   5.4s\n",
      "[CV] net__module__dropout=0.5 ........................................\n",
      "[CV]  net__module__dropout=0.5, score=0.9610868260906831, total=   5.4s\n",
      "[CV] net__module__dropout=0.5 ........................................\n",
      "[CV]  net__module__dropout=0.5, score=0.9577851112158745, total=   5.3s\n",
      "[CV] net__module__dropout=0.5 ........................................\n",
      "[CV]  net__module__dropout=0.5, score=0.9638280546864956, total=   5.4s\n",
      "[CV] net__module__dropout=0.8 ........................................\n",
      "[CV]  net__module__dropout=0.8, score=0.9362732493357333, total=   5.4s\n",
      "[CV] net__module__dropout=0.8 ........................................\n",
      "[CV]  net__module__dropout=0.8, score=0.9336990528436121, total=   5.4s\n",
      "[CV] net__module__dropout=0.8 ........................................\n",
      "[CV]  net__module__dropout=0.8, score=0.9435563365190931, total=   5.4s\n"
     ]
    },
    {
     "name": "stderr",
     "output_type": "stream",
     "text": [
      "[Parallel(n_jobs=1)]: Done   9 out of   9 | elapsed:   52.4s finished\n"
     ]
    }
   ],
   "source": [
    "_ = gs.fit(X, y)"
   ]
  },
  {
   "cell_type": "code",
   "execution_count": 289,
   "metadata": {},
   "outputs": [
    {
     "name": "stdout",
     "output_type": "stream",
     "text": [
      "best score: 0.9651\n",
      "best_params {'net__module__dropout': 0.2}\n"
     ]
    }
   ],
   "source": [
    "print(\"best score:\", gs.best_score_)\n",
    "print(\"best_params\", gs.best_params_)"
   ]
  },
  {
   "cell_type": "code",
   "execution_count": null,
   "metadata": {},
   "outputs": [],
   "source": []
  },
  {
   "cell_type": "code",
   "execution_count": null,
   "metadata": {},
   "outputs": [],
   "source": []
  },
  {
   "cell_type": "code",
   "execution_count": null,
   "metadata": {},
   "outputs": [],
   "source": []
  },
  {
   "cell_type": "code",
   "execution_count": null,
   "metadata": {},
   "outputs": [],
   "source": []
  },
  {
   "cell_type": "code",
   "execution_count": null,
   "metadata": {},
   "outputs": [],
   "source": []
  },
  {
   "cell_type": "code",
   "execution_count": null,
   "metadata": {},
   "outputs": [],
   "source": []
  },
  {
   "cell_type": "code",
   "execution_count": null,
   "metadata": {},
   "outputs": [],
   "source": []
  },
  {
   "cell_type": "code",
   "execution_count": null,
   "metadata": {},
   "outputs": [],
   "source": []
  },
  {
   "cell_type": "code",
   "execution_count": null,
   "metadata": {},
   "outputs": [],
   "source": []
  },
  {
   "cell_type": "code",
   "execution_count": null,
   "metadata": {},
   "outputs": [],
   "source": []
  },
  {
   "cell_type": "code",
   "execution_count": null,
   "metadata": {},
   "outputs": [],
   "source": []
  },
  {
   "cell_type": "code",
   "execution_count": null,
   "metadata": {},
   "outputs": [],
   "source": []
  },
  {
   "cell_type": "code",
   "execution_count": null,
   "metadata": {},
   "outputs": [],
   "source": []
  },
  {
   "cell_type": "code",
   "execution_count": null,
   "metadata": {},
   "outputs": [],
   "source": []
  }
 ],
 "metadata": {
  "kernelspec": {
   "display_name": "Python 3",
   "language": "python",
   "name": "python3"
  },
  "language_info": {
   "codemirror_mode": {
    "name": "ipython",
    "version": 3
   },
   "file_extension": ".py",
   "mimetype": "text/x-python",
   "name": "python",
   "nbconvert_exporter": "python",
   "pygments_lexer": "ipython3",
   "version": "3.7.0"
  },
  "toc-autonumbering": false,
  "toc-showcode": false,
  "toc-showmarkdowntxt": false,
  "toc-showtags": false
 },
 "nbformat": 4,
 "nbformat_minor": 2
}
